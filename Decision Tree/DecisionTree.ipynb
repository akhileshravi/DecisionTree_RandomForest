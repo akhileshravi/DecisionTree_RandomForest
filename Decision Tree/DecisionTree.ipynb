{
 "cells": [
  {
   "cell_type": "code",
   "execution_count": 1,
   "metadata": {},
   "outputs": [],
   "source": [
    "import numpy as np\n",
    "import pandas as pd\n",
    "import matplotlib.pyplot as plt\n",
    "from math import log"
   ]
  },
  {
   "cell_type": "code",
   "execution_count": 2,
   "metadata": {
    "scrolled": true
   },
   "outputs": [
    {
     "data": {
      "text/html": [
       "<div>\n",
       "<style scoped>\n",
       "    .dataframe tbody tr th:only-of-type {\n",
       "        vertical-align: middle;\n",
       "    }\n",
       "\n",
       "    .dataframe tbody tr th {\n",
       "        vertical-align: top;\n",
       "    }\n",
       "\n",
       "    .dataframe thead th {\n",
       "        text-align: right;\n",
       "    }\n",
       "</style>\n",
       "<table border=\"1\" class=\"dataframe\">\n",
       "  <thead>\n",
       "    <tr style=\"text-align: right;\">\n",
       "      <th></th>\n",
       "      <th>outlook</th>\n",
       "      <th>temp</th>\n",
       "      <th>humidity</th>\n",
       "      <th>windy</th>\n",
       "      <th>play</th>\n",
       "    </tr>\n",
       "  </thead>\n",
       "  <tbody>\n",
       "    <tr>\n",
       "      <th>D1</th>\n",
       "      <td>sunny</td>\n",
       "      <td>hot</td>\n",
       "      <td>high</td>\n",
       "      <td>False</td>\n",
       "      <td>no</td>\n",
       "    </tr>\n",
       "    <tr>\n",
       "      <th>D2</th>\n",
       "      <td>sunny</td>\n",
       "      <td>hot</td>\n",
       "      <td>high</td>\n",
       "      <td>True</td>\n",
       "      <td>no</td>\n",
       "    </tr>\n",
       "    <tr>\n",
       "      <th>D3</th>\n",
       "      <td>overcast</td>\n",
       "      <td>hot</td>\n",
       "      <td>high</td>\n",
       "      <td>False</td>\n",
       "      <td>yes</td>\n",
       "    </tr>\n",
       "    <tr>\n",
       "      <th>D4</th>\n",
       "      <td>rainy</td>\n",
       "      <td>mild</td>\n",
       "      <td>high</td>\n",
       "      <td>False</td>\n",
       "      <td>yes</td>\n",
       "    </tr>\n",
       "    <tr>\n",
       "      <th>D5</th>\n",
       "      <td>rainy</td>\n",
       "      <td>cool</td>\n",
       "      <td>normal</td>\n",
       "      <td>False</td>\n",
       "      <td>yes</td>\n",
       "    </tr>\n",
       "    <tr>\n",
       "      <th>D6</th>\n",
       "      <td>rainy</td>\n",
       "      <td>cool</td>\n",
       "      <td>normal</td>\n",
       "      <td>True</td>\n",
       "      <td>no</td>\n",
       "    </tr>\n",
       "    <tr>\n",
       "      <th>D7</th>\n",
       "      <td>overcast</td>\n",
       "      <td>cool</td>\n",
       "      <td>normal</td>\n",
       "      <td>True</td>\n",
       "      <td>yes</td>\n",
       "    </tr>\n",
       "    <tr>\n",
       "      <th>D8</th>\n",
       "      <td>sunny</td>\n",
       "      <td>mild</td>\n",
       "      <td>high</td>\n",
       "      <td>False</td>\n",
       "      <td>no</td>\n",
       "    </tr>\n",
       "    <tr>\n",
       "      <th>D9</th>\n",
       "      <td>sunny</td>\n",
       "      <td>cool</td>\n",
       "      <td>normal</td>\n",
       "      <td>False</td>\n",
       "      <td>yes</td>\n",
       "    </tr>\n",
       "    <tr>\n",
       "      <th>D10</th>\n",
       "      <td>rainy</td>\n",
       "      <td>mild</td>\n",
       "      <td>normal</td>\n",
       "      <td>False</td>\n",
       "      <td>yes</td>\n",
       "    </tr>\n",
       "    <tr>\n",
       "      <th>D11</th>\n",
       "      <td>sunny</td>\n",
       "      <td>mild</td>\n",
       "      <td>normal</td>\n",
       "      <td>True</td>\n",
       "      <td>yes</td>\n",
       "    </tr>\n",
       "    <tr>\n",
       "      <th>D12</th>\n",
       "      <td>overcast</td>\n",
       "      <td>mild</td>\n",
       "      <td>high</td>\n",
       "      <td>True</td>\n",
       "      <td>yes</td>\n",
       "    </tr>\n",
       "    <tr>\n",
       "      <th>D13</th>\n",
       "      <td>overcast</td>\n",
       "      <td>hot</td>\n",
       "      <td>normal</td>\n",
       "      <td>False</td>\n",
       "      <td>yes</td>\n",
       "    </tr>\n",
       "    <tr>\n",
       "      <th>D14</th>\n",
       "      <td>rainy</td>\n",
       "      <td>mild</td>\n",
       "      <td>high</td>\n",
       "      <td>True</td>\n",
       "      <td>no</td>\n",
       "    </tr>\n",
       "  </tbody>\n",
       "</table>\n",
       "</div>"
      ],
      "text/plain": [
       "      outlook  temp humidity  windy play\n",
       "D1      sunny   hot     high  False   no\n",
       "D2      sunny   hot     high   True   no\n",
       "D3   overcast   hot     high  False  yes\n",
       "D4      rainy  mild     high  False  yes\n",
       "D5      rainy  cool   normal  False  yes\n",
       "D6      rainy  cool   normal   True   no\n",
       "D7   overcast  cool   normal   True  yes\n",
       "D8      sunny  mild     high  False   no\n",
       "D9      sunny  cool   normal  False  yes\n",
       "D10     rainy  mild   normal  False  yes\n",
       "D11     sunny  mild   normal   True  yes\n",
       "D12  overcast  mild     high   True  yes\n",
       "D13  overcast   hot   normal  False  yes\n",
       "D14     rainy  mild     high   True   no"
      ]
     },
     "execution_count": 2,
     "metadata": {},
     "output_type": "execute_result"
    }
   ],
   "source": [
    "tennis = pd.read_csv('tennis-weather/tennis.csv')\n",
    "tennis.index = ['D'+str(i) for i in range(1,15)]\n",
    "df = tennis.copy()\n",
    "out_attr = 'play'\n",
    "outputs = set(df[out_attr].values)\n",
    "df"
   ]
  },
  {
   "cell_type": "code",
   "execution_count": 47,
   "metadata": {},
   "outputs": [],
   "source": [
    "def entropy(df):\n",
    "    ent = 0\n",
    "    tot = float(len(df))\n",
    "    for i in df[out_attr].value_counts():\n",
    "        p = i/tot\n",
    "        ent -= p*log(p,2)\n",
    "    return ent"
   ]
  },
  {
   "cell_type": "code",
   "execution_count": 46,
   "metadata": {},
   "outputs": [],
   "source": [
    "def sub_df(df,attr,val=True,greater=True):\n",
    "    if type(val) == int or type(val) == float:\n",
    "        if greater:\n",
    "            return df[df[attr]>=val]\n",
    "        else:\n",
    "            return df[df[attr]<val]\n",
    "    else:\n",
    "        return df[df[attr]==val]"
   ]
  },
  {
   "cell_type": "code",
   "execution_count": null,
   "metadata": {},
   "outputs": [],
   "source": [
    "\n",
    "    "
   ]
  },
  {
   "cell_type": "code",
   "execution_count": 45,
   "metadata": {},
   "outputs": [],
   "source": [
    "def info_gain(current_entropy, df, attr, val=None):\n",
    "    \"\"\"Information Gain.\n",
    "    \n",
    "    The entropy of the current node, minus the weighted entropy of\n",
    "    the child nodes.\n",
    "    \n",
    "    If the attribute has countinuous values, then, a partitioning value (the optimum split) should be\n",
    "    given for that attribute.\n",
    "    \"\"\"\n",
    "    \n",
    "    if type(val) == int or type(val) == float: #If the attribute has continuous (numeric) values\n",
    "        greater = sub_df(df,attr,val,True)\n",
    "        less = sub_df(df,attr,val,False)\n",
    "        p = len(greater)/len(df)\n",
    "        return curent_entropy - p*entropy(greater) - (1-p)*entropy(less)\n",
    "    \n",
    "    else: #If the attribute has discrete values\n",
    "        ig = current_entropy\n",
    "        values = set(df[attr].values)\n",
    "        for val in values:\n",
    "            sub = sub_df(df,attr,val)\n",
    "            p = len(sub)/len(df)\n",
    "            ig -= p*entropy(sub)\n",
    "        return ig"
   ]
  },
  {
   "cell_type": "code",
   "execution_count": 44,
   "metadata": {},
   "outputs": [],
   "source": [
    "def sum_square_error(lst):\n",
    "    m = sum(lst)/len(lst)\n",
    "    s = 0\n",
    "    for i in lst:\n",
    "        s += (i-m)**2\n",
    "    return s"
   ]
  },
  {
   "cell_type": "code",
   "execution_count": 43,
   "metadata": {},
   "outputs": [],
   "source": [
    "def best_split(df, attr):\n",
    "    # This method is used to find the best split for an attribute which has continuous values \n",
    "    # (The output value may be discrete or continuous)\n",
    "    newdf = df.loc[:,[attr,out_attr]].copy()\n",
    "    newdf.sort_values(by=attr)\n",
    "    if type(outputs[0]) in [int, float]:\n",
    "        out_values = list(newdf[out_attr])\n",
    "        in_values = list(newdf[attr])\n",
    "        min_sqe = sum_square_error(out_values)\n",
    "        split_val = in_values[0]\n",
    "        for i in range(1,len(in_values)):\n",
    "            sqe = sum_square_error(out_values[:i]) + sum_square_error(out_values[i:])\n",
    "            if sqe <= min_sqe and in_values[i] != in_values[i-1]:\n",
    "                min_sqe = sqe\n",
    "                split_val = (in_values[i]+in_values[i-1])/2.0\n",
    "        return split_val\n",
    "    else:\n",
    "        out_values = list(newdf[in_attr])\n",
    "        in_values = list(newdf[attr])\n",
    "        current_entropy = entropy(in_values)\n",
    "        split_val = in_values[0]\n",
    "        max_infog = info_gain(current_entropy, newdf, attr, val=split_val)\n",
    "        for i in range(1,len(in_values)):\n",
    "            split_val = in_values[0]\n",
    "            ig = info_gain(current_entropy, newdf, attr, val=split_val)\n",
    "            if ig >= max_infog and in_values[i] != in_values[i-1]:\n",
    "                max_infog = ig\n",
    "                split_val = inval[i]\n",
    "        return split_val\n",
    "            \n",
    "        \n",
    "    "
   ]
  },
  {
   "cell_type": "code",
   "execution_count": 64,
   "metadata": {
    "scrolled": true
   },
   "outputs": [],
   "source": [
    "def max_ig(df):\n",
    "    keys = list(df.keys())\n",
    "    keys.remove(out_attr)\n",
    "    ent = entropy(df)\n",
    "    key0 = keys[0]\n",
    "    row0 = df.iloc[[0]]\n",
    "    val = None\n",
    "    if type(row0[key0]) in [int, float]:\n",
    "        val = best_split(df, attr)\n",
    "    mkey, mig = key0, info_gain(ent, df, key0, val)\n",
    "    for i in range(1,len(keys)):\n",
    "        attr = keys[i]\n",
    "        rowi = df.iloc[[i]]\n",
    "        val = None\n",
    "        if type(rowi[attr]) in [int, float]:\n",
    "            val = best_split(df, attr)\n",
    "        ig = info_gain(ent, df, attr, val)\n",
    "        if ig > mig:\n",
    "            mkey, mig = attr, ig\n",
    "    return mkey    "
   ]
  },
  {
   "cell_type": "code",
   "execution_count": 58,
   "metadata": {},
   "outputs": [],
   "source": [
    "def best_split_overall(df):\n",
    "    if type(out_attr) in [int, float]:\n",
    "        keys = list(df.keys())\n",
    "        keys.remove(out_attr)\n",
    "        mkey = keys[0]\n",
    "        val = best_split(df, mkey)\n",
    "        lesslst = df[df[mkey]<val]\n",
    "        greaterlst = df[df[mkey]>val]\n",
    "        sqe = sum_square_error(lesslst) + sum_square_error(greaterlst)\n",
    "        min_sqe = sqe\n",
    "        mval = val\n",
    "        for i in range(1,len(keys)):\n",
    "            keyi = keys[i]\n",
    "            val = best_split(df, keyi)\n",
    "            lesslst = list(df[df[keyi]<val][out_attr])\n",
    "            greaterlst = list(df[df[keyi]>val][out_attr])\n",
    "            sqe = sum_square_error(lesslst) + sum_square_error(greaterlst)\n",
    "            if sqe < min_sqe:\n",
    "                min_sqe = sqe\n",
    "                mkey = keyi\n",
    "                mval = val\n",
    "        return mkey, mval\n",
    "                \n",
    "    else:\n",
    "        mkey = max_ig(df)\n",
    "        return mkey, None"
   ]
  },
  {
   "cell_type": "code",
   "execution_count": 67,
   "metadata": {},
   "outputs": [],
   "source": [
    "class Node:\n",
    "    depth_limit = 12\n",
    "    def __init__(self, df, children = [],level = 1, attr = None, prevval = None, val = None,\n",
    "                 greater = None, used_attr = []):\n",
    "        '''df   ->  the dataframe for the current node\n",
    "        attr    ->  the attribute used to decide the next split\n",
    "        val     ->  the value used for greater/less than checking for the \n",
    "                    next split (only for numeric values of the respective attribute)\n",
    "        greater ->  greater/less than flag from the value corresponding to the threshold that \n",
    "                    resulted in the previous split (only for numeric values of the respective attribute)\n",
    "        prevval ->  the value of the previous attribute that led to this branch (only\n",
    "                    for non-numeric or discrete values of the respective attribute)\n",
    "        ent     ->  entropy at the current node\n",
    "        '''\n",
    "        self.df, self.attr,  = df, attr\n",
    "        self.val, self.greater = val, greater\n",
    "        self.prevval = prevval\n",
    "        self.children = children # This is a list with the child nodes.\n",
    "        self.ent = entropy(df)\n",
    "        self.level = level\n",
    "    \n",
    "    def add_children(self):\n",
    "        pass\n",
    "    \n",
    "    def find(self, row):\n",
    "        '''Function to find the prediction for a given row/entry/object'''\n",
    "        \n",
    "        if len(children) == 0:\n",
    "            if type(outputs[0]) == int or type(outputs[0]) == float:\n",
    "                return np.mean(df[attr].values)\n",
    "            else:\n",
    "                val = []\n",
    "                vcounts = df[attr].value_counts()\n",
    "                for i in outputs:\n",
    "                    if val == [] or val[0] < vcounts[i]:\n",
    "                        val = [i]\n",
    "                    elif vcounts[val[0]] == vcounts[i]:\n",
    "                        val += [i]\n",
    "                if len(val) == 1:\n",
    "                    return val[0]\n",
    "                else:\n",
    "                    return np.random.choice(val)\n",
    "        else:\n",
    "            attr = self.attr\n",
    "            if type(row[attr]) == int or type(row[attr]) == float:\n",
    "                val = self.val\n",
    "                greater = (row[attr] >= val)\n",
    "                for child in self.children:\n",
    "                    if child.greater == greater:\n",
    "                        return child.find(row)\n",
    "            else:\n",
    "                for child in self.children:\n",
    "                    if child.prevval == row[attr]:\n",
    "                        return child.find(row)\n",
    "            "
   ]
  },
  {
   "cell_type": "code",
   "execution_count": 93,
   "metadata": {},
   "outputs": [],
   "source": [
    "max_depth = 13\n",
    "def build_tree(node, df, root=None, level = 1, used_attr = []):\n",
    "    if root is None:\n",
    "        attr, val = best_split_overall(df)\n",
    "        if type(val) == int or type(val) == float:\n",
    "            pass\n",
    "            #sub_df(df,attr,val=True,greater=True):\n",
    "        else:\n",
    "            root = Node(df, children = [],level = 1, attr = attr, prevval = None, val = val,\n",
    "                 greater = None, used_attr = None)\n",
    "            values = set(df[attr].values)\n",
    "            for i in values:\n",
    "                sub = sub_df(df,attr,i)\n",
    "                nd = Node(sub, children = [],level = 2, attr = attr, prevval = i, val = None,\n",
    "                          greater = None, used_attr = [attr])\n",
    "                nd = build_tree(nd, sub, root=root, level = 2, used_attr = [attr])\n",
    "                children += [nd]\n",
    "            root.children = children\n",
    "            return root\n",
    "    else:\n",
    "        attr, val = best_split_overall(df)\n",
    "        if type(val) == int or type(val) == float:\n",
    "            pass\n",
    "        else:\n",
    "            keys = list(df.keys())\n",
    "            keys.remove(out_attr)\n",
    "            keys = [i for i in keys if i not in used_attr]\n",
    "            #for i in used_attr:\n",
    "            #    if i in keys:\n",
    "            #        keys.remove(i)\n",
    "            if len(keys) == 0:\n",
    "                return node\n",
    "            \n",
    "            ent = entropy(df)\n",
    "            if level > max_depth or info_gain(ent, df, attr) < 10**(-2):\n",
    "                return node\n",
    "            \n",
    "            values = set(df[attr].values)\n",
    "            for i in values:\n",
    "                sub = sub_df(df,attr,i)\n",
    "                nd = Node(sub, children = [],level = level+1, attr = attr, prevval = i, val = None,\n",
    "                          greater = None, used_attr = used_attr+[attr])\n",
    "                nd = build_tree(nd, sub, root=root, level = level+1, used_attr = used_attr+[attr])\n",
    "                children += [nd]\n",
    "            node.children = children\n",
    "            return node\n",
    "                \n",
    "            \n",
    "            \n",
    "            \n",
    "        \n",
    "    \n",
    "    \n",
    "\n",
    "\n",
    "\n",
    "\n",
    "\n"
   ]
  },
  {
   "cell_type": "code",
   "execution_count": null,
   "metadata": {},
   "outputs": [],
   "source": [
    "root = build_tree(None, tennis, root=None, level = 1, used_attr = [])"
   ]
  },
  {
   "cell_type": "code",
   "execution_count": 95,
   "metadata": {},
   "outputs": [],
   "source": [
    "##### AFTER THIS IS ONLY ROUGH CODE CHECKING #####\n",
    "\n",
    "\n",
    "##### AFTER THIS IS ONLY ROUGH CODE CHECKING #####\n",
    "\n",
    "\n",
    "##### AFTER THIS IS ONLY ROUGH CODE CHECKING #####\n",
    "\n",
    "\n",
    "\n",
    "##### AFTER THIS IS ONLY ROUGH CODE CHECKING #####\n",
    "\n",
    "\n",
    "\n",
    "\n",
    "\n",
    "\n",
    "\n",
    "\n",
    "\n",
    "\n",
    "\n",
    "\n",
    "\n",
    "\n",
    "\n",
    "\n",
    "\n",
    "\n",
    "\n",
    "\n",
    "\n",
    "\n",
    "###### AFTER THIS IS ONLY ROUGH CODE CHECKING #####\n",
    "###################################################"
   ]
  },
  {
   "cell_type": "code",
   "execution_count": 12,
   "metadata": {
    "scrolled": true
   },
   "outputs": [
    {
     "name": "stdout",
     "output_type": "stream",
     "text": [
      "5\n",
      "5\n"
     ]
    }
   ],
   "source": [
    "print(tennis[tennis['outlook']=='sunny'].count()['outlook'])\n",
    "print(tennis['outlook'].value_counts()['sunny'])"
   ]
  },
  {
   "cell_type": "code",
   "execution_count": 13,
   "metadata": {
    "scrolled": false
   },
   "outputs": [
    {
     "name": "stdout",
     "output_type": "stream",
     "text": [
      "1.0\n",
      "5\n",
      "5\n",
      "4\n",
      "False\n",
      "False\n"
     ]
    }
   ],
   "source": [
    "print(log(2,2))\n",
    "for c in tennis['outlook'].value_counts():\n",
    "    print(c)\n",
    "print(type(True)==int)\n",
    "print(type(True)==float)"
   ]
  },
  {
   "cell_type": "code",
   "execution_count": 14,
   "metadata": {
    "scrolled": true
   },
   "outputs": [
    {
     "name": "stdout",
     "output_type": "stream",
     "text": [
      "    outlook  temp humidity  windy play\n",
      "D1    sunny   hot     high  False   no\n",
      "D2    sunny   hot     high   True   no\n",
      "D8    sunny  mild     high  False   no\n",
      "D9    sunny  cool   normal  False  yes\n",
      "D11   sunny  mild   normal   True  yes\n",
      "\n",
      "   outlook temp humidity  windy play\n",
      "D1   sunny  hot     high  False   no\n"
     ]
    }
   ],
   "source": [
    "print(tennis[tennis['outlook']=='sunny'])\n",
    "print()\n",
    "print(tennis[tennis.index=='D1'])"
   ]
  },
  {
   "cell_type": "code",
   "execution_count": 15,
   "metadata": {
    "scrolled": true
   },
   "outputs": [
    {
     "name": "stdout",
     "output_type": "stream",
     "text": [
      "{'sunny', 'overcast', 'rainy'}\n",
      "sunny\n",
      "overcast\n",
      "rainy\n",
      "False\n",
      "True\n",
      "False\n"
     ]
    }
   ],
   "source": [
    "s = set(tennis['outlook'].values)\n",
    "print(s)\n",
    "for i in s:\n",
    "    print(i)\n",
    "nnnn = None\n",
    "print(0 is None)\n",
    "a = [1,2,3]\n",
    "b = a\n",
    "print(a is b)\n",
    "dd = tennis.copy()\n",
    "print(dd is tennis)\n",
    "dd['num'] = pd.Series(list(range(1,15)), index=dd.index)"
   ]
  },
  {
   "cell_type": "code",
   "execution_count": 16,
   "metadata": {
    "scrolled": true
   },
   "outputs": [
    {
     "name": "stdout",
     "output_type": "stream",
     "text": [
      "9\n",
      "4\n",
      "Index(['outlook', 'temp', 'humidity', 'windy', 'play'], dtype='object')\n"
     ]
    }
   ],
   "source": [
    "print(dd['play'].value_counts()['yes'])\n",
    "print(np.random.choice([1,2,3,4,5]))\n",
    "row1 = tennis.loc[['D1']]\n",
    "row1['outlook'] == 'sunny'\n",
    "print(tennis.keys())"
   ]
  },
  {
   "cell_type": "code",
   "execution_count": 17,
   "metadata": {},
   "outputs": [],
   "source": [
    "def fn(root):\n",
    "    left = Node(tennis, children = [],level = 2, attr = None, prevval = None, val = None,\n",
    "                 greater = None, ent = 0)\n",
    "    right = Node(tennis, children = [],level = 2, attr = None, prevval = None, val = None,\n",
    "                 greater = None, ent = 0)\n",
    "    root.children = [left, right]\n",
    "    #return root"
   ]
  },
  {
   "cell_type": "code",
   "execution_count": 24,
   "metadata": {
    "scrolled": true
   },
   "outputs": [
    {
     "data": {
      "text/plain": [
       "[]"
      ]
     },
     "execution_count": 24,
     "metadata": {},
     "output_type": "execute_result"
    }
   ],
   "source": [
    "\n",
    "root = Node(tennis, children = [],level = 1, attr = None, prevval = None, val = None,\n",
    "                 greater = None)\n",
    "root.children\n",
    "#a = fn(root)\n",
    "#root.children[0].level, a.children[1].level"
   ]
  },
  {
   "cell_type": "code",
   "execution_count": 19,
   "metadata": {
    "scrolled": true
   },
   "outputs": [
    {
     "name": "stdout",
     "output_type": "stream",
     "text": [
      "D1    sunny\n",
      "Name: outlook, dtype: object \n",
      "\n",
      "sunny\n",
      "sunny\n",
      "overcast\n",
      "rainy\n",
      "rainy\n",
      "rainy\n",
      "overcast\n",
      "sunny\n",
      "sunny\n",
      "rainy\n",
      "sunny\n",
      "overcast\n",
      "overcast\n",
      "rainy\n",
      "['sunny', 'sunny', 'overcast', 'rainy', 'rainy', 'rainy', 'overcast', 'sunny', 'sunny', 'rainy', 'sunny', 'overcast', 'overcast', 'rainy']\n",
      "['overcast', 'overcast', 'overcast', 'overcast', 'rainy', 'rainy', 'rainy', 'rainy', 'rainy', 'sunny', 'sunny', 'sunny', 'sunny', 'sunny']\n"
     ]
    }
   ],
   "source": [
    "print(tennis[0:1]['outlook'], '\\n')\n",
    "for i in tennis['outlook']:\n",
    "    print(i)\n",
    "ll = list(tennis['outlook'])\n",
    "print(ll)\n",
    "\n",
    "ll.sort()\n",
    "print(ll)"
   ]
  },
  {
   "cell_type": "code",
   "execution_count": 25,
   "metadata": {
    "scrolled": false
   },
   "outputs": [
    {
     "data": {
      "text/plain": [
       "D1         sunnyno\n",
       "D2         sunnyno\n",
       "D3     overcastyes\n",
       "D4        rainyyes\n",
       "D5        rainyyes\n",
       "D6         rainyno\n",
       "D7     overcastyes\n",
       "D8         sunnyno\n",
       "D9        sunnyyes\n",
       "D10       rainyyes\n",
       "D11       sunnyyes\n",
       "D12    overcastyes\n",
       "D13    overcastyes\n",
       "D14        rainyno\n",
       "dtype: object"
      ]
     },
     "execution_count": 25,
     "metadata": {},
     "output_type": "execute_result"
    }
   ],
   "source": [
    "df['outlook']+df['play']"
   ]
  },
  {
   "cell_type": "code",
   "execution_count": 26,
   "metadata": {},
   "outputs": [
    {
     "data": {
      "text/plain": [
       "0.0"
      ]
     },
     "execution_count": 26,
     "metadata": {},
     "output_type": "execute_result"
    }
   ],
   "source": [
    "entropy(tennis[tennis['outlook']=='overcast'])"
   ]
  },
  {
   "cell_type": "code",
   "execution_count": 31,
   "metadata": {},
   "outputs": [
    {
     "data": {
      "text/html": [
       "<div>\n",
       "<style scoped>\n",
       "    .dataframe tbody tr th:only-of-type {\n",
       "        vertical-align: middle;\n",
       "    }\n",
       "\n",
       "    .dataframe tbody tr th {\n",
       "        vertical-align: top;\n",
       "    }\n",
       "\n",
       "    .dataframe thead th {\n",
       "        text-align: right;\n",
       "    }\n",
       "</style>\n",
       "<table border=\"1\" class=\"dataframe\">\n",
       "  <thead>\n",
       "    <tr style=\"text-align: right;\">\n",
       "      <th></th>\n",
       "      <th>outlook</th>\n",
       "      <th>temp</th>\n",
       "      <th>humidity</th>\n",
       "      <th>windy</th>\n",
       "      <th>play</th>\n",
       "    </tr>\n",
       "  </thead>\n",
       "  <tbody>\n",
       "    <tr>\n",
       "      <th>D1</th>\n",
       "      <td>sunny</td>\n",
       "      <td>hot</td>\n",
       "      <td>high</td>\n",
       "      <td>False</td>\n",
       "      <td>no</td>\n",
       "    </tr>\n",
       "  </tbody>\n",
       "</table>\n",
       "</div>"
      ],
      "text/plain": [
       "   outlook temp humidity  windy play\n",
       "D1   sunny  hot     high  False   no"
      ]
     },
     "execution_count": 31,
     "metadata": {},
     "output_type": "execute_result"
    }
   ],
   "source": [
    "a = list(df.keys())\n",
    "a.remove(out_attr)\n",
    "df.iloc[[0]]"
   ]
  },
  {
   "cell_type": "code",
   "execution_count": 36,
   "metadata": {},
   "outputs": [
    {
     "data": {
      "text/plain": [
       "[0, 1, 2, 3, 4]"
      ]
     },
     "execution_count": 36,
     "metadata": {},
     "output_type": "execute_result"
    }
   ],
   "source": [
    "l1= list(range(10))\n",
    "l2 = [i for i in l1 if (i<5)]\n",
    "l2"
   ]
  },
  {
   "cell_type": "code",
   "execution_count": 40,
   "metadata": {},
   "outputs": [
    {
     "data": {
      "text/plain": [
       "['yes', 'yes', 'yes', 'no', 'yes', 'yes', 'yes', 'yes', 'no']"
      ]
     },
     "execution_count": 40,
     "metadata": {},
     "output_type": "execute_result"
    }
   ],
   "source": [
    "lesslst = list(df[df['outlook']<'sunny'][out_attr])\n",
    "lesslst"
   ]
  }
 ],
 "metadata": {
  "kernelspec": {
   "display_name": "Python 3",
   "language": "python",
   "name": "python3"
  },
  "language_info": {
   "codemirror_mode": {
    "name": "ipython",
    "version": 3
   },
   "file_extension": ".py",
   "mimetype": "text/x-python",
   "name": "python",
   "nbconvert_exporter": "python",
   "pygments_lexer": "ipython3",
   "version": "3.6.7"
  }
 },
 "nbformat": 4,
 "nbformat_minor": 2
}
